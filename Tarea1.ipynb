{
  "nbformat": 4,
  "nbformat_minor": 0,
  "metadata": {
    "colab": {
      "provenance": [],
      "authorship_tag": "ABX9TyP2qxtShX7dTWk+rpUla3L3",
      "include_colab_link": true
    },
    "kernelspec": {
      "name": "python3",
      "display_name": "Python 3"
    },
    "language_info": {
      "name": "python"
    }
  },
  "cells": [
    {
      "cell_type": "markdown",
      "metadata": {
        "id": "view-in-github",
        "colab_type": "text"
      },
      "source": [
        "<a href=\"https://colab.research.google.com/github/IvonneTZapataM/PDS_20251/blob/main/Tarea1.ipynb\" target=\"_parent\"><img src=\"https://colab.research.google.com/assets/colab-badge.svg\" alt=\"Open In Colab\"/></a>"
      ]
    },
    {
      "cell_type": "code",
      "execution_count": null,
      "metadata": {
        "id": "bat5ZibFFxvJ"
      },
      "outputs": [],
      "source": []
    },
    {
      "cell_type": "markdown",
      "source": [
        "***¿Cómo se calcula fourier cuando las muestras no estan uniformemente muestreadas?***"
      ],
      "metadata": {
        "id": "DPanwoKoGqCz"
      }
    },
    {
      "cell_type": "markdown",
      "source": [
        "Cuando las muestras no están uniformemente muestreadas, el cálculo de la transformada de Fourier se vuelve un poco más complicado porque la Transformada de Fourier Discreta (DFT) —y su versión rápida, la FFT— asumen un muestreo uniforme. Sin embargo, existen métodos para trabajar con muestreo no uniforme, dependiendo de lo que necesites (análisis, reconstrucción, etc.)."
      ],
      "metadata": {
        "id": "NhDKjmtcFz0T"
      }
    },
    {
      "cell_type": "markdown",
      "source": [
        "***Algunas opciones para calcular Fourier con muestreo no uniforme:***"
      ],
      "metadata": {
        "id": "IwNZ-lH-F8LZ"
      }
    },
    {
      "cell_type": "markdown",
      "source": [],
      "metadata": {
        "id": "q_1SZ3lWH9Ja"
      }
    },
    {
      "cell_type": "markdown",
      "source": [
        "1. Transformada de Fourier No Uniforme (NUDFT/NUFFT)\n",
        "NUDFT (Non-Uniform Discrete Fourier Transform): Es una versión directa de la DFT que se adapta a muestras no uniformes.\n",
        "\n",
        "Su fórmula es:"
      ],
      "metadata": {
        "id": "Or8vbs4UGIc8"
      }
    },
    {
      "cell_type": "markdown",
      "source": [
        "![image.png](data:image/png;base64,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)"
      ],
      "metadata": {
        "id": "Z3gWSmL9GQKs"
      }
    },
    {
      "cell_type": "markdown",
      "source": [
        "Donde:\n",
        "\n",
        "𝑥\n",
        "𝑛\n",
        "x\n",
        "n\n",
        "​\n",
        "  son los valores muestreados.\n",
        "\n",
        "𝑡\n",
        "𝑛\n",
        "t\n",
        "n\n",
        "​\n",
        "  son los tiempos de muestreo no uniformes.\n",
        "\n",
        "𝑓\n",
        "𝑘\n",
        "f\n",
        "k\n",
        "​\n",
        "  son las frecuencias donde quieres evaluar la transformada.\n",
        "\n",
        "NUFFT (Non-Uniform Fast Fourier Transform): Es una versión rápida de la NUDFT. Es útil cuando tienes muchos puntos y necesitas eficiencia.\n",
        "\n",
        "Existen implementaciones en Python (como pynufft, finufft) y MATLAB."
      ],
      "metadata": {
        "id": "MQZBUaf9GX7E"
      }
    },
    {
      "cell_type": "markdown",
      "source": [
        "2. Interpolación a muestreo uniforme + FFT\n",
        "Puedes interpolar tus datos no uniformes a una grilla uniforme usando técnicas como:\n",
        "\n",
        "Interpolación lineal\n",
        "\n",
        "Spline cúbico\n",
        "\n",
        "Interpolación basada en kernels (por ejemplo, sinc)\n",
        "\n",
        "Luego, aplicas una FFT sobre esos nuevos datos."
      ],
      "metadata": {
        "id": "KlXIvbJ7Ggod"
      }
    },
    {
      "cell_type": "markdown",
      "source": [
        "3. Métodos basados en ajuste o regresión\n",
        "Ajustar funciones (por ejemplo, suma de senos y cosenos, modelos armónicos, wavelets, etc.) a los datos muestreados y luego obtener los coeficientes de frecuencia desde el modelo."
      ],
      "metadata": {
        "id": "TLS668M1Gk93"
      }
    }
  ]
}